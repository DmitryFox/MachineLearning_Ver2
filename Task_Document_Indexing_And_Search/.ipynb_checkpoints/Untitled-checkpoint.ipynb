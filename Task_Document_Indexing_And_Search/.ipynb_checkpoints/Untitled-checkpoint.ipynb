{
 "cells": [
  {
   "cell_type": "code",
   "execution_count": 1,
   "metadata": {},
   "outputs": [],
   "source": [
    "from collections import Counter\n",
    "import operator\n",
    "import math"
   ]
  },
  {
   "cell_type": "code",
   "execution_count": 3,
   "metadata": {},
   "outputs": [],
   "source": [
    "# Разделение слов\n",
    "def tokenize(doc):\n",
    "    words = [word.replace(',', '').lower() for word in doc.split()]\n",
    "    return words"
   ]
  },
  {
   "cell_type": "code",
   "execution_count": 4,
   "metadata": {},
   "outputs": [],
   "source": [
    "def build_terms(corpus):\n",
    "    terms = {}\n",
    "    current_index = 0\n",
    "    for doc in corpus:\n",
    "        for word in tokenize(doc):\n",
    "            if word not in terms:\n",
    "                terms[word] = current_index\n",
    "                current_index += 1\n",
    "    return terms"
   ]
  },
  {
   "cell_type": "code",
   "execution_count": 5,
   "metadata": {},
   "outputs": [],
   "source": [
    "def tf(document, terms):\n",
    "    words = tokenize(document)\n",
    "    total_words = len(words)\n",
    "    doc_counter = Counter(words)\n",
    "    for word in doc_counter:\n",
    "        doc_counter[word] /= total_words\n",
    "    tfs = [0 for _ in range(len(terms))]\n",
    "    for term, index in terms.items():\n",
    "        tfs[index] = doc_counter[term]\n",
    "    return tfs"
   ]
  },
  {
   "cell_type": "code",
   "execution_count": 6,
   "metadata": {},
   "outputs": [],
   "source": [
    "def _count_docs_with_word(word, docs):\n",
    "    counter = 1\n",
    "    for doc in docs:\n",
    "        if word in doc:\n",
    "            counter += 1\n",
    "    return counter"
   ]
  },
  {
   "cell_type": "code",
   "execution_count": 7,
   "metadata": {},
   "outputs": [],
   "source": [
    "def idf(documents, terms):\n",
    "    idfs = [0 for _ in range(len(terms))]\n",
    "    total_docs = len(documents)\n",
    "    for word, index in terms.items():\n",
    "        docs_with_word = _count_docs_with_word(word, documents)\n",
    "        idf = 1 + math.log10(total_docs / docs_with_word)\n",
    "        idfs[index] = idf\n",
    "    return idfs"
   ]
  },
  {
   "cell_type": "code",
   "execution_count": 8,
   "metadata": {},
   "outputs": [],
   "source": [
    "def _merge_td_idf(tf, idf, terms):\n",
    "    return [tf[i] * idf[i] for i in range(len(terms))]\n",
    "\n",
    "\n",
    "def build_tfidf(corpus, document, terms):\n",
    "    doc_tf = tf(document, terms)\n",
    "    doc_idf = idf(corpus, terms)\n",
    "    return _merge_td_idf(doc_tf, doc_idf, terms)\n",
    "\n",
    "\n",
    "def cosine_similarity(vec1, vec2):\n",
    "    def dot_product2(v1, v2):\n",
    "        return sum(map(operator.mul, v1, v2))\n",
    "\n",
    "    def vector_cos5(v1, v2):\n",
    "        prod = dot_product2(v1, v2)\n",
    "        len1 = math.sqrt(dot_product2(v1, v1))\n",
    "        len2 = math.sqrt(dot_product2(v2, v2))\n",
    "        return prod / (len1 * len2)\n",
    "\n",
    "    return vector_cos5(vec1, vec2)"
   ]
  },
  {
   "cell_type": "code",
   "execution_count": 9,
   "metadata": {},
   "outputs": [
    {
     "name": "stdout",
     "output_type": "stream",
     "text": [
      "QUERY: верные слова\n",
      "Similarity with DOC 0 = 0.0\n",
      "Similarity with DOC 1 = 0.0\n",
      "Similarity with DOC 2 = 0.0\n",
      "Similarity with DOC 3 = 0.6409749887520813\n",
      "QUERY: мудрость\n",
      "Similarity with DOC 0 = 0.0\n",
      "Similarity with DOC 1 = 0.0\n",
      "Similarity with DOC 2 = 0.5367066611896931\n",
      "Similarity with DOC 3 = 0.0\n",
      "QUERY: это никогда не понять\n",
      "Similarity with DOC 0 = 0.15175903614469113\n",
      "Similarity with DOC 1 = 0.31241826499450226\n",
      "Similarity with DOC 2 = 0.2766687618663595\n",
      "Similarity with DOC 3 = 0.17687591324528437\n"
     ]
    }
   ],
   "source": [
    "doc0 = \"В мире нет ничего, что можно знать наверняка. Это единственное, что я знаю наверняка.\"\n",
    "doc1 = \"Если не спросить — никогда не узнаешь, если знаешь — нужно лишь спросить.\"\n",
    "doc2 = \"Мудрость — это применение знаний.\"\n",
    "doc3 = \"Верные слова не изящны. Красивые слова не заслуживают доверия. \"\n",
    "\n",
    "check_str1 = \"верные слова\"\n",
    "check_str2 = \"мудрость\"\n",
    "check_str3 = \"это никогда не понять\"\n",
    "\n",
    "tf_idf_total = []\n",
    "corpus = (doc0, doc1, doc2, doc3)\n",
    "terms = build_terms(corpus)\n",
    "\n",
    "for document in corpus:\n",
    "    tf_idf_total.append(build_tfidf(corpus, document, terms))\n",
    "\n",
    "queries = (check_str1, check_str2, check_str3)\n",
    "for query in queries:\n",
    "    print(\"QUERY:\", query)\n",
    "    query_tfidf = build_tfidf(corpus, query, terms)\n",
    "    for index, document in enumerate(tf_idf_total):\n",
    "        print(\"Similarity with DOC\", index, \"=\", cosine_similarity(query_tfidf, document))\n"
   ]
  },
  {
   "cell_type": "code",
   "execution_count": null,
   "metadata": {},
   "outputs": [],
   "source": []
  }
 ],
 "metadata": {
  "kernelspec": {
   "display_name": "Python 3",
   "language": "python",
   "name": "python3"
  },
  "language_info": {
   "codemirror_mode": {
    "name": "ipython",
    "version": 3
   },
   "file_extension": ".py",
   "mimetype": "text/x-python",
   "name": "python",
   "nbconvert_exporter": "python",
   "pygments_lexer": "ipython3",
   "version": "3.7.0"
  }
 },
 "nbformat": 4,
 "nbformat_minor": 2
}
